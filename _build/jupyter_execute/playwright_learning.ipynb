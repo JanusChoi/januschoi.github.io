{
 "cells": [
  {
   "cell_type": "code",
   "execution_count": 8,
   "id": "86374c7f-dff2-4229-9bdc-28bc50bac5f6",
   "metadata": {},
   "outputs": [],
   "source": [
    "from PIL import Image\n",
    "from playwright.sync_api import Playwright, sync_playwright\n",
    "import time\n",
    "from bs4 import BeautifulSoup\n",
    "import requests\n",
    "import img2pdf\n",
    "import base64\n",
    "import os\n",
    "\n",
    "global SLEEP_TIME"
   ]
  },
  {
   "cell_type": "code",
   "execution_count": 9,
   "id": "92b1c2b8-87bd-4ad9-a935-b3e1c4813365",
   "metadata": {},
   "outputs": [],
   "source": [
    "# 使用 canvas 进行截图\n",
    "def handle_docin(page):\n",
    "    imagepath = []\n",
    "    command = \"\"\"id => {\n",
    "                elements = document.getElementsByTagName('canvas')[id] \n",
    "                return elements.toDataURL(\"image/jpeg\")};\"\"\"\n",
    "    divs = page.query_selector_all(\"//div[@class='model panel scrollLoading']\")\n",
    "    for i in range(len(divs)):\n",
    "        divs[i].scroll_into_view_if_needed()\n",
    "        while True:\n",
    "            try:\n",
    "                time.sleep(SLEEP_TIME)\n",
    "                data = page.evaluate(command, i)\n",
    "                image_base64 = data.split(\",\")[1]\n",
    "                image_bytes = base64.b64decode(image_base64)\n",
    "                imagepath.append(str(i) + '.jpg')\n",
    "                break\n",
    "            except:\n",
    "                pass\n",
    "        with open(str(i) + '.jpg', \"wb\") as code:\n",
    "            code.write(image_bytes)\n",
    "    return imagepath"
   ]
  },
  {
   "cell_type": "code",
   "execution_count": 10,
   "id": "5450286e-c44e-4304-a34a-7f1c73aa232b",
   "metadata": {},
   "outputs": [],
   "source": [
    "# 使用screenshot进行截图\n",
    "def handle_baidu(page):\n",
    "    imagepath = []\n",
    "    page.query_selector(\"//span[@class='read-all']\").click()\n",
    "    for i in ['reader-topbar', 'sidebar-wrapper', 'tool-bar-wrapper', 'fold-page-content', 'theme-enter-wrap',\n",
    "              'search-box-wrapper', 'doc-info-wrapper', 'header-wrapper']:\n",
    "        page.evaluate('document.querySelector(\".{}\").remove()'.format(i))\n",
    "    divs = page.query_selector_all(\"//canvas\")\n",
    "    for i in range(len(divs)):\n",
    "        divs[i].scroll_into_view_if_needed()\n",
    "        while True:\n",
    "            try:\n",
    "                time.sleep(SLEEP_TIME)\n",
    "                divs[i].screenshot(path=str(i) + '.jpeg', quality=100, type='jpeg')\n",
    "                imagepath.append(str(i) + '.jpeg')\n",
    "                break\n",
    "            except Exception as e:\n",
    "                print(str(e))\n",
    "                pass\n",
    "    return imagepath"
   ]
  },
  {
   "cell_type": "code",
   "execution_count": 11,
   "id": "f63c45d8-151f-465e-a421-15a50997c338",
   "metadata": {},
   "outputs": [],
   "source": [
    "# 直接下载图片\n",
    "def handle_book118(page):\n",
    "    imagepath = []\n",
    "    file_type = 'None'\n",
    "    file_type = page.query_selector(\"//*[@id='main']/div[1]/div[1]/div/i\").get_attribute('class')[-3:]\n",
    "\n",
    "    if file_type in ['doc', 'ocx', 'pdf']:\n",
    "        while True:\n",
    "            try:\n",
    "                page.query_selector(\"//button[@id='btn_preview_remain']\").click()\n",
    "                time.sleep(SLEEP_TIME)\n",
    "            except:\n",
    "                break\n",
    "        divs = page.query_selector_all(\"//div[@class='webpreview-item']\")\n",
    "        for i in range(len(divs)):\n",
    "\n",
    "            divs[i].scroll_into_view_if_needed()\n",
    "            while True:\n",
    "                time.sleep(SLEEP_TIME)\n",
    "                try:\n",
    "                    inner = divs[i].inner_html()\n",
    "                    soup = BeautifulSoup(inner, 'lxml')\n",
    "                    imgurl = soup.img.attrs['src']\n",
    "                    break\n",
    "                except:\n",
    "                    pass\n",
    "\n",
    "            dir = str(i) + '.jpg'\n",
    "\n",
    "            imagepath.append(dir)\n",
    "            file = requests.get('https:' + imgurl)\n",
    "            with open(dir, \"wb\") as code:\n",
    "                code.write(file.content)\n",
    "\n",
    "    elif file_type in ['ppt', 'ptx']:\n",
    "        page.query_selector(\"//button[@id='btn_preview_remain']\").click()\n",
    "        time.sleep(SLEEP_TIME)\n",
    "        try:\n",
    "            framelink = page.wait_for_selector(\"//iframe\").content_frame().url\n",
    "            print('您可以直接访问PPT预览（无广告）：\\n' + framelink)\n",
    "            page.goto(framelink)\n",
    "            time.sleep(1.5)\n",
    "            nums = int(page.locator(\"//span[@id='PageCount']\").inner_text())\n",
    "            while True:\n",
    "                time.sleep(SLEEP_TIME)\n",
    "                page.locator(\"//div[@class='btmRight']\").click()\n",
    "                if int(page.locator(\"//span[@id='PageIndex']\").inner_text()) == nums:\n",
    "                    for i in range(10):\n",
    "                        time.sleep(SLEEP_TIME)\n",
    "                        page.locator(\"//div[@class='btmRight']\").click()\n",
    "                    break\n",
    "            for i in range(nums + 1):\n",
    "                time.sleep(SLEEP_TIME)\n",
    "                pageid = int(page.locator(\"//span[@id='PageIndex']\").inner_text())\n",
    "\n",
    "                page.locator(\"//div[@id='slide\" + str(pageid - 1) + \"']\").screenshot(path=str(pageid) + \".jpg\")\n",
    "                imagepath.append(str(pageid) + '.jpg')\n",
    "\n",
    "                page.locator(\"//div[@id='pagePrev']\").click()\n",
    "            imagepath.reverse()\n",
    "        except Exception as e:\n",
    "            print(str(e))\n",
    "            print('下载PPT失败，请至GitHub提交issue，附上下载链接')\n",
    "\n",
    "    return imagepath"
   ]
  },
  {
   "cell_type": "code",
   "execution_count": 12,
   "id": "7d1a2d54-3b18-41cb-8b5a-5537b1c9635c",
   "metadata": {},
   "outputs": [],
   "source": [
    "def handle_doc88(page):\n",
    "    import re\n",
    "    imagepath = []\n",
    "    file_type = 'None'\n",
    "    file_type = re.findall(\"格式：([a-zA-Z]*)\", page.query_selector(\"//*[@id='box1']/div/div/div[1]\").text_content())[\n",
    "        0].lower()\n",
    "\n",
    "    while True:\n",
    "        try:\n",
    "            page.query_selector(\"//*[@id='continueButton']\").click()\n",
    "            time.sleep(SLEEP_TIME)\n",
    "        except AttributeError:\n",
    "            break\n",
    "        except Exception as e:\n",
    "            print(f'some error occured：{e}')\n",
    "\n",
    "\n",
    "    js = \"\"\"id => {var temp = document.getElementsByTagName(\"canvas\")[id].getAttribute(\"lz\")\n",
    "    if (temp==null){\n",
    "        return false\n",
    "    }else{return document.getElementsByTagName(\"canvas\")[id].toDataURL(\"image/jpeg\")}\n",
    "    };\"\"\"\n",
    "\n",
    "\n",
    "    data = False\n",
    "    divs = page.query_selector_all(\"//div[@class='outer_page']\")\n",
    "    for i in range(len(divs)):\n",
    "        divs[i].scroll_into_view_if_needed()\n",
    "        while True:\n",
    "\n",
    "            try:\n",
    "                # 检测是否加载完成\n",
    "                while not data:\n",
    "                    time.sleep(SLEEP_TIME)\n",
    "                    data = page.evaluate(js, i * 2 + 1)\n",
    "                image_base64 = data.split(\",\")[1]\n",
    "                image_bytes = base64.b64decode(image_base64)\n",
    "                imagepath.append(str(i) + '.jpg')\n",
    "\n",
    "                break\n",
    "            except:\n",
    "                pass\n",
    "        with open(str(i) + '.jpg', \"wb\") as code:\n",
    "            code.write(image_bytes)\n",
    "\n",
    "    return imagepath"
   ]
  },
  {
   "cell_type": "code",
   "execution_count": 13,
   "id": "b029ec70-83d8-4244-8196-947d628b5acd",
   "metadata": {},
   "outputs": [],
   "source": [
    "def download_from_url(url,sleep_time=1):\n",
    "    global SLEEP_TIME\n",
    "    SLEEP_TIME= sleep_time\n",
    "    with sync_playwright() as playwright:\n",
    "        try:\n",
    "            browser = playwright.chromium.launch(headless=False)\n",
    "        except:\n",
    "            browser = playwright.webkit.launch(headless=False)\n",
    "        context = browser.new_context()\n",
    "        page = context.new_page()\n",
    "        page.set_viewport_size({\"width\": 800, \"height\": 800})\n",
    "        page.goto(url)\n",
    "        time.sleep(SLEEP_TIME)\n",
    "        title = page.query_selector(\"//title\").inner_text()\n",
    "\n",
    "        if '.docin.' in url[8:18] :\n",
    "            imagepath = handle_docin(page)\n",
    "        elif url[8:18] == 'wenku.baid':\n",
    "            imagepath = handle_baidu(page)\n",
    "        elif url[8:18] == 'max.book11':\n",
    "            imagepath = handle_book118(page)\n",
    "        elif url[8:18] == 'www.doc88.':\n",
    "            imagepath = handle_doc88(page)\n",
    "\n",
    "        temp = []\n",
    "        [temp.append(i) for i in imagepath if not i in temp]\n",
    "        imagepath = temp\n",
    "        context.close()\n",
    "        browser.close()\n",
    "        filename_ = title + \".pdf\"\n",
    "\n",
    "        # 将图片中alpha透明通道删除\n",
    "        for image in imagepath:\n",
    "            img = Image.open(image)\n",
    "            # 将PNG中RGBA属性变为RGB，即可删掉alpha透明度通道\n",
    "            img.convert('RGB').save(image)\n",
    "            img.close()\n",
    "\n",
    "        try:\n",
    "            with open(filename_, \"wb\") as f:\n",
    "                f.write(img2pdf.convert(imagepath))\n",
    "        except Exception as e:\n",
    "            print(\"下载失败，请注意关闭代理，如果还有问题，请至GitHub提交issue，附上下载链接\")\n",
    "            print(e)\n",
    "        # 删除图片\n",
    "        for image in imagepath:\n",
    "            os.remove(image)\n",
    "        return filename_"
   ]
  },
  {
   "cell_type": "code",
   "execution_count": 14,
   "id": "98944c13-9809-4b0c-b461-75a2dc202d47",
   "metadata": {},
   "outputs": [
    {
     "ename": "Error",
     "evalue": "It looks like you are using Playwright Sync API inside the asyncio loop.\nPlease use the Async API instead.",
     "output_type": "error",
     "traceback": [
      "\u001b[0;31m---------------------------------------------------------------------------\u001b[0m",
      "\u001b[0;31mError\u001b[0m                                     Traceback (most recent call last)",
      "\u001b[0;32m/var/folders/f1/7mnps7y90y5gt1sb3_rjwrqm0000gn/T/ipykernel_77757/1356788374.py\u001b[0m in \u001b[0;36m<module>\u001b[0;34m\u001b[0m\n\u001b[1;32m      1\u001b[0m \u001b[0murl\u001b[0m \u001b[0;34m=\u001b[0m \u001b[0;34m'https://max.book118.com/html/2017/0808/126667182.shtm'\u001b[0m\u001b[0;34m\u001b[0m\u001b[0;34m\u001b[0m\u001b[0m\n\u001b[0;32m----> 2\u001b[0;31m \u001b[0mdownload_from_url\u001b[0m\u001b[0;34m(\u001b[0m\u001b[0murl\u001b[0m\u001b[0;34m)\u001b[0m\u001b[0;34m\u001b[0m\u001b[0;34m\u001b[0m\u001b[0m\n\u001b[0m",
      "\u001b[0;32m/var/folders/f1/7mnps7y90y5gt1sb3_rjwrqm0000gn/T/ipykernel_77757/222621924.py\u001b[0m in \u001b[0;36mdownload_from_url\u001b[0;34m(url, sleep_time)\u001b[0m\n\u001b[1;32m      2\u001b[0m     \u001b[0;32mglobal\u001b[0m \u001b[0mSLEEP_TIME\u001b[0m\u001b[0;34m\u001b[0m\u001b[0;34m\u001b[0m\u001b[0m\n\u001b[1;32m      3\u001b[0m     \u001b[0mSLEEP_TIME\u001b[0m\u001b[0;34m=\u001b[0m \u001b[0msleep_time\u001b[0m\u001b[0;34m\u001b[0m\u001b[0;34m\u001b[0m\u001b[0m\n\u001b[0;32m----> 4\u001b[0;31m     \u001b[0;32mwith\u001b[0m \u001b[0msync_playwright\u001b[0m\u001b[0;34m(\u001b[0m\u001b[0;34m)\u001b[0m \u001b[0;32mas\u001b[0m \u001b[0mplaywright\u001b[0m\u001b[0;34m:\u001b[0m\u001b[0;34m\u001b[0m\u001b[0;34m\u001b[0m\u001b[0m\n\u001b[0m\u001b[1;32m      5\u001b[0m         \u001b[0;32mtry\u001b[0m\u001b[0;34m:\u001b[0m\u001b[0;34m\u001b[0m\u001b[0;34m\u001b[0m\u001b[0m\n\u001b[1;32m      6\u001b[0m             \u001b[0mbrowser\u001b[0m \u001b[0;34m=\u001b[0m \u001b[0mplaywright\u001b[0m\u001b[0;34m.\u001b[0m\u001b[0mchromium\u001b[0m\u001b[0;34m.\u001b[0m\u001b[0mlaunch\u001b[0m\u001b[0;34m(\u001b[0m\u001b[0mheadless\u001b[0m\u001b[0;34m=\u001b[0m\u001b[0;32mFalse\u001b[0m\u001b[0;34m)\u001b[0m\u001b[0;34m\u001b[0m\u001b[0;34m\u001b[0m\u001b[0m\n",
      "\u001b[0;32m~/opt/anaconda3/envs/py37/lib/python3.7/site-packages/playwright/sync_api/_context_manager.py\u001b[0m in \u001b[0;36m__enter__\u001b[0;34m(self)\u001b[0m\n\u001b[1;32m     44\u001b[0m             raise Error(\n\u001b[1;32m     45\u001b[0m                 \"\"\"It looks like you are using Playwright Sync API inside the asyncio loop.\n\u001b[0;32m---> 46\u001b[0;31m Please use the Async API instead.\"\"\"\n\u001b[0m\u001b[1;32m     47\u001b[0m             )\n\u001b[1;32m     48\u001b[0m \u001b[0;34m\u001b[0m\u001b[0m\n",
      "\u001b[0;31mError\u001b[0m: It looks like you are using Playwright Sync API inside the asyncio loop.\nPlease use the Async API instead."
     ]
    }
   ],
   "source": [
    "url = 'https://max.book118.com/html/2017/0808/126667182.shtm'\n",
    "download_from_url(url)"
   ]
  },
  {
   "cell_type": "code",
   "execution_count": 15,
   "id": "620764c4-7d5d-4748-81c6-1ded6275d53e",
   "metadata": {},
   "outputs": [],
   "source": [
    "filename=\"/Users/januswing/Library/Application Support/Alfred/Alfred.alfredpreferences/workflows/user.workflow.07616D06-6F88-4D54-99E4-05EACC72B6D1/ADpro数据库安全.pdf全文文档投稿网.pdf\""
   ]
  },
  {
   "cell_type": "code",
   "execution_count": 16,
   "id": "df746587-00be-46b8-9968-ec788557c5fb",
   "metadata": {},
   "outputs": [
    {
     "data": {
      "text/plain": [
       "True"
      ]
     },
     "execution_count": 16,
     "metadata": {},
     "output_type": "execute_result"
    }
   ],
   "source": [
    "filename.endswith('.pdf')"
   ]
  },
  {
   "cell_type": "code",
   "execution_count": 22,
   "id": "3090d0b5-6e10-42a9-8240-021798ecc26d",
   "metadata": {},
   "outputs": [],
   "source": [
    "def remove_escape(value):\n",
    "    reserved_chars = r'''?&|!{}[]()^~*:\\\\\"'+ '''\n",
    "    replace = ['-' for l in reserved_chars]\n",
    "    trans = str.maketrans(dict(zip(reserved_chars, replace)))\n",
    "    return value.translate(trans)\n",
    "\n",
    "dash_symbol_loc = [each.start() for each in re.finditer(\"/\", doc_file)]\n",
    "doc_file = '/Users/januswing/Downloads/Scaling up public blockchains.pdf'\n",
    "file_title = remove_escape(doc_file[dash_symbol_loc[-1]+1:len(doc_file)-4])"
   ]
  },
  {
   "cell_type": "code",
   "execution_count": 23,
   "id": "5b4e3ff8-fd44-4fe9-8a84-070e90d1f4aa",
   "metadata": {},
   "outputs": [
    {
     "data": {
      "text/plain": [
       "'Scaling-up-public-blockchains'"
      ]
     },
     "execution_count": 23,
     "metadata": {},
     "output_type": "execute_result"
    }
   ],
   "source": [
    "file_title"
   ]
  },
  {
   "cell_type": "code",
   "execution_count": 21,
   "id": "2f410e19-f450-47b0-b1c1-85a96b375f24",
   "metadata": {},
   "outputs": [
    {
     "data": {
      "text/plain": [
       "'Scaling up public blockchains'"
      ]
     },
     "execution_count": 21,
     "metadata": {},
     "output_type": "execute_result"
    }
   ],
   "source": [
    "doc_file[dash_symbol_loc[-1]+1:len(doc_file)-4]"
   ]
  },
  {
   "cell_type": "code",
   "execution_count": 67,
   "id": "c3f5b951-39b4-4cce-b04d-232e79359f1a",
   "metadata": {},
   "outputs": [
    {
     "ename": "KeyboardInterrupt",
     "evalue": "",
     "output_type": "error",
     "traceback": [
      "\u001b[0;31m---------------------------------------------------------------------------\u001b[0m",
      "\u001b[0;31mKeyboardInterrupt\u001b[0m                         Traceback (most recent call last)",
      "\u001b[0;32m/var/folders/f1/7mnps7y90y5gt1sb3_rjwrqm0000gn/T/ipykernel_77757/1340780942.py\u001b[0m in \u001b[0;36m<module>\u001b[0;34m\u001b[0m\n\u001b[1;32m      4\u001b[0m     \u001b[0mst\u001b[0m \u001b[0;34m=\u001b[0m \u001b[0;36m0\u001b[0m\u001b[0;34m\u001b[0m\u001b[0;34m\u001b[0m\u001b[0m\n\u001b[1;32m      5\u001b[0m     \u001b[0;32mfor\u001b[0m \u001b[0mi\u001b[0m \u001b[0;32min\u001b[0m \u001b[0mrange\u001b[0m\u001b[0;34m(\u001b[0m\u001b[0mpow\u001b[0m\u001b[0;34m(\u001b[0m\u001b[0;36m10\u001b[0m\u001b[0;34m,\u001b[0m\u001b[0;34m(\u001b[0m\u001b[0mn\u001b[0m\u001b[0;34m-\u001b[0m\u001b[0;36m1\u001b[0m\u001b[0;34m)\u001b[0m\u001b[0;34m)\u001b[0m\u001b[0;34m+\u001b[0m\u001b[0;36m1\u001b[0m\u001b[0;34m,\u001b[0m \u001b[0mpow\u001b[0m\u001b[0;34m(\u001b[0m\u001b[0;36m10\u001b[0m\u001b[0;34m,\u001b[0m\u001b[0mn\u001b[0m\u001b[0;34m)\u001b[0m\u001b[0;34m+\u001b[0m\u001b[0;36m1\u001b[0m\u001b[0;34m)\u001b[0m\u001b[0;34m:\u001b[0m\u001b[0;34m\u001b[0m\u001b[0;34m\u001b[0m\u001b[0m\n\u001b[0;32m----> 6\u001b[0;31m         \u001b[0mst\u001b[0m \u001b[0;34m=\u001b[0m \u001b[0mst\u001b[0m \u001b[0;34m+\u001b[0m \u001b[0;36m1\u001b[0m\u001b[0;34m/\u001b[0m\u001b[0mi\u001b[0m\u001b[0;34m\u001b[0m\u001b[0;34m\u001b[0m\u001b[0m\n\u001b[0m\u001b[1;32m      7\u001b[0m     \u001b[0;31m# print('from {} to {} equal {}'.format(pow(10,(n-1))+1, pow(10,n), st))\u001b[0m\u001b[0;34m\u001b[0m\u001b[0;34m\u001b[0m\u001b[0;34m\u001b[0m\u001b[0m\n\u001b[1;32m      8\u001b[0m     \u001b[0;32mif\u001b[0m \u001b[0mn\u001b[0m\u001b[0;34m==\u001b[0m\u001b[0;36m1\u001b[0m\u001b[0;34m:\u001b[0m\u001b[0;34m\u001b[0m\u001b[0;34m\u001b[0m\u001b[0m\n",
      "\u001b[0;31mKeyboardInterrupt\u001b[0m: "
     ]
    }
   ],
   "source": [
    "s=[]\n",
    "n=1\n",
    "for n in range(1,50):\n",
    "    st = 0\n",
    "    for i in range(pow(10,(n-1))+1, pow(10,n)+1):\n",
    "        st = st + 1/i\n",
    "    # print('from {} to {} equal {}'.format(pow(10,(n-1))+1, pow(10,n), st))\n",
    "    if n==1:\n",
    "        s.append(st+1)\n",
    "    else:\n",
    "        s.append(st+1+s[n-2])\n",
    "        # print('sum: {}+{}'.format(st,s[n-2]))\n",
    "    # print('10^{},{}'.format(n,st))\n",
    "print(s)"
   ]
  },
  {
   "cell_type": "code",
   "execution_count": 68,
   "id": "3032f7df-8c9b-40fa-859f-31e9b05f9e28",
   "metadata": {},
   "outputs": [
    {
     "data": {
      "text/plain": [
       "[2.9289682539682538,\n",
       " 6.187377517639618,\n",
       " 9.485470860550341,\n",
       " 12.787606036044368,\n",
       " 16.090146129863435,\n",
       " 19.392726722865866,\n",
       " 22.69531136586003,\n",
       " 25.99789641385333,\n",
       " 29.300481502347075,\n",
       " 32.60306659489071,\n",
       " 35.905651687792506]"
      ]
     },
     "execution_count": 68,
     "metadata": {},
     "output_type": "execute_result"
    }
   ],
   "source": [
    "s"
   ]
  },
  {
   "cell_type": "code",
   "execution_count": 33,
   "id": "55009644-dfe2-40ed-b922-041bd8e1d8a6",
   "metadata": {},
   "outputs": [
    {
     "data": {
      "text/plain": [
       "1000000000"
      ]
     },
     "execution_count": 33,
     "metadata": {},
     "output_type": "execute_result"
    }
   ],
   "source": []
  },
  {
   "cell_type": "code",
   "execution_count": null,
   "id": "c5e0f02f-ca5b-419e-9c09-c58bbd25bfb1",
   "metadata": {},
   "outputs": [],
   "source": []
  }
 ],
 "metadata": {
  "kernelspec": {
   "display_name": "py37",
   "language": "python",
   "name": "py37"
  },
  "language_info": {
   "codemirror_mode": {
    "name": "ipython",
    "version": 3
   },
   "file_extension": ".py",
   "mimetype": "text/x-python",
   "name": "python",
   "nbconvert_exporter": "python",
   "pygments_lexer": "ipython3",
   "version": "3.7.16"
  }
 },
 "nbformat": 4,
 "nbformat_minor": 5
}