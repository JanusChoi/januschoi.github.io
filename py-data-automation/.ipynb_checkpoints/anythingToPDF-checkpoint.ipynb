{
 "cells": [
  {
   "cell_type": "markdown",
   "id": "131c17d0-aea0-406c-a72f-6e48cd7a9a17",
   "metadata": {},
   "source": [
    "# 链接生成PDF并保存Zotero"
   ]
  },
  {
   "cell_type": "markdown",
   "id": "55ffb231-0dd7-4c9f-8968-e82635803079",
   "metadata": {},
   "source": [
    "\n",
    "将免登录的页面链接，生成pdf文件，并写入到Zotero\n",
    "使用场景举例：\n",
    "- 需要收藏一篇微信公众号到Zotero\n",
    "- 在程序中输入链接，如：https://mp.weixin.qq.com/s/IFdFunIx9YoVeXIXz_GpUg\n",
    "- 运行程序\n",
    "- 程序将公众号内容自动导出pdf，并存储到Zotero，类型=document\n",
    "\n",
    "前置条件：\n",
    "- wkhtmltopdf: 安装参考 https://github.com/JazzCore/python-pdfkit/wiki/Installing-wkhtmltopdf\n",
    "- pdfkit: pip install pdfkit\n",
    "\n",
    "已知缺陷：\n",
    "- pdfkit导出时一些图片无法保存到pdf"
   ]
  },
  {
   "cell_type": "code",
   "execution_count": 1,
   "id": "e5ebceab-db39-46dc-8c69-7bfe8fba16e7",
   "metadata": {},
   "outputs": [],
   "source": [
    "import pdfkit\n",
    "import requests\n",
    "import re,time\n",
    "import pandas as pd\n",
    "from bs4 import BeautifulSoup\n",
    "from pyzotero import zotero"
   ]
  },
  {
   "cell_type": "code",
   "execution_count": 2,
   "id": "a04da1ac-e8a2-4702-946c-34a701fd8171",
   "metadata": {},
   "outputs": [],
   "source": [
    "## 要保存的网页链接\n",
    "webpage_url = 'https://mp.weixin.qq.com/s/Y5bEBezJupY1GQrrWxPaXw'\n",
    "## 存储路径\n",
    "filepath = '/Users/januswing/data'\n",
    "## Zotero接口参数\n",
    "library_id = ''\n",
    "library_type = ''\n",
    "api_key = ''\n",
    "## Zotero Collection 名称（可不指定）\n",
    "target_collection_name = '项目文档'"
   ]
  },
  {
   "cell_type": "code",
   "execution_count": 3,
   "id": "3d478786-d910-442d-935d-484292527110",
   "metadata": {},
   "outputs": [],
   "source": [
    "headers = {\n",
    "  'authority': 'mp.weixin.qq.com',\n",
    "  'accept': 'text/html,application/xhtml+xml,application/xml;q=0.9,image/avif,image/webp,image/apng,*/*;q=0.8,application/signed-exchange;v=b3;q=0.9',\n",
    "  'accept-language': 'en-US,en;q=0.9,zh-CN;q=0.8,zh;q=0.7,ja-JP;q=0.6,ja;q=0.5,zh-TW;q=0.4',\n",
    "  'cache-control': 'max-age=0',\n",
    "  'if-modified-since': 'Tue, 12 Jul 2022 14:33:55 +0800',\n",
    "  'sec-ch-ua': '\".Not/A)Brand\";v=\"99\", \"Google Chrome\";v=\"103\", \"Chromium\";v=\"103\"',\n",
    "  'sec-ch-ua-mobile': '?0',\n",
    "  'sec-ch-ua-platform': '\"macOS\"',\n",
    "  'sec-fetch-dest': 'document',\n",
    "  'sec-fetch-mode': 'navigate',\n",
    "  'sec-fetch-site': 'none',\n",
    "  'sec-fetch-user': '?1',\n",
    "  'upgrade-insecure-requests': '1',\n",
    "  'user-agent': 'Mozilla/5.0 (Macintosh; Intel Mac OS X 10_15_7) AppleWebKit/537.36 (KHTML, like Gecko) Chrome/103.0.0.0 Safari/537.36'\n",
    "}\n",
    "\n",
    "response = requests.request(\"GET\", webpage_url, headers=headers)\n",
    "whole_text = response.text\n",
    "soup = BeautifulSoup(response.content.decode('utf-8'),'lxml')"
   ]
  },
  {
   "cell_type": "code",
   "execution_count": 4,
   "id": "39d8b25a-25ed-43aa-8287-3e0e3928a7d6",
   "metadata": {},
   "outputs": [
    {
     "data": {
      "text/plain": [
       "True"
      ]
     },
     "execution_count": 4,
     "metadata": {},
     "output_type": "execute_result"
    }
   ],
   "source": [
    "## 提取文章标题 & 公众号名称\n",
    "document_title = soup.select('h1')[0].text.replace('\\n','').replace(' ','')\n",
    "for span in soup.select('div[id=\"meta_content\"]')[0].select('span'):\n",
    "    if span.a:\n",
    "        document_author = span.a.text.replace('\\n','').replace(' ','')\n",
    "## 提取文章发布时间\n",
    "pattern = re.compile('\"[0-9]+\",0,document.getElementById\\(\"publish_time\"\\)')\n",
    "publish_timestamp = pattern.search(whole_text).group().replace('\",0,document.getElementById(\"publish_time\")','').replace('\"','')\n",
    "## 转换成localtime\n",
    "time_local = time.localtime(int(publish_timestamp))\n",
    "## 转换成新的时间格式\n",
    "document_publish_time = time.strftime(\"%Y-%m-%d %H:%M:%S\",time_local)\n",
    "file_timemark = time.strftime(\"%Y%m%d\",time_local)\n",
    "## 生成并保存为pdf\n",
    "document_save_path = '{}/{}_{}.pdf'.format(filepath, document_title.replace('.',''), file_timemark)\n",
    "pdfkit.from_url(webpage_url, document_save_path)"
   ]
  },
  {
   "cell_type": "code",
   "execution_count": 5,
   "id": "3315ecc6-0cff-496a-bd42-7705d1e8a5e2",
   "metadata": {},
   "outputs": [],
   "source": [
    "# 连接 Zotero\n",
    "zot = zotero.Zotero(library_id, library_type, api_key)\n",
    "# 提取 collections 信息\n",
    "collections = []\n",
    "for collection in zot.collections():\n",
    "    collections.append(collection)\n",
    "\n",
    "df_col = pd.DataFrame()\n",
    "for col in collections:\n",
    "    df_col = df_col.append(col['data'], ignore_index=True)\n",
    "\n",
    "if target_collection_name != '':\n",
    "    target_collection_id = df_col[df_col['name']==target_collection_name]['key'].iloc[0]"
   ]
  },
  {
   "cell_type": "code",
   "execution_count": 6,
   "id": "9691c8bb-d224-4728-93f3-e7bdf093731c",
   "metadata": {},
   "outputs": [
    {
     "data": {
      "text/plain": [
       "{'success': [{'itemType': 'attachment',\n",
       "   'linkMode': 'imported_file',\n",
       "   'title': '一本关于好奇心的书-读《Why》_20220610.pdf',\n",
       "   'accessDate': '',\n",
       "   'note': '',\n",
       "   'tags': [],\n",
       "   'collections': [],\n",
       "   'relations': {},\n",
       "   'contentType': '',\n",
       "   'charset': '',\n",
       "   'filename': '/Users/januswing/data/一本关于好奇心的书-读《Why》_20220610.pdf',\n",
       "   'md5': None,\n",
       "   'mtime': None,\n",
       "   'parentItem': '94MCQANU',\n",
       "   'key': 'TQ6RW2GJ'}],\n",
       " 'failure': [],\n",
       " 'unchanged': []}"
      ]
     },
     "execution_count": 6,
     "metadata": {},
     "output_type": "execute_result"
    }
   ],
   "source": [
    "# 保存Zotero条目\n",
    "## 请保证云存储空间充足\n",
    "template = zot.item_template('document')\n",
    "template['title'] = document_title\n",
    "template['creators'] = [{'creatorType': 'author', 'name': document_author}]\n",
    "template['date'] = document_publish_time\n",
    "template['url'] = webpage_url\n",
    "if target_collection_name != '':\n",
    "    template['collections'] = [target_collection_id]\n",
    "res = zot.create_items([template])\n",
    "item_id = res['successful']['0']['key']\n",
    "attachment_path = document_save_path\n",
    "zot.attachment_simple([attachment_path], item_id)"
   ]
  },
  {
   "cell_type": "code",
   "execution_count": null,
   "id": "95bad230-b054-448b-b42b-21aa483e5bfc",
   "metadata": {},
   "outputs": [],
   "source": []
  }
 ],
 "metadata": {
  "kernelspec": {
   "display_name": "py37",
   "language": "python",
   "name": "py37"
  },
  "language_info": {
   "codemirror_mode": {
    "name": "ipython",
    "version": 3
   },
   "file_extension": ".py",
   "mimetype": "text/x-python",
   "name": "python",
   "nbconvert_exporter": "python",
   "pygments_lexer": "ipython3",
   "version": "3.7.11"
  }
 },
 "nbformat": 4,
 "nbformat_minor": 5
}
