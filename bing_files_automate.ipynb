{
 "cells": [
  {
   "cell_type": "markdown",
   "id": "1843d3f6-ebb2-4ee7-a80d-9caa5db0e0e1",
   "metadata": {},
   "source": [
    "# 批量下载文件并存入Zotero（cn.bing.com）\n",
    "\n",
    "## 优化项\n",
    "\n",
    "- [ ] PDF解释+Zotero写入可多线程并发进行\n",
    "- [ ] 优化摘要提取\n",
    "- [ ] 增加PDF提取信息：作者，日期\n",
    "- [ ] 可指定Zotero Collection\n",
    "- [ ] 自动新建文件夹"
   ]
  },
  {
   "cell_type": "code",
   "execution_count": 1,
   "id": "c3022cb0-af03-4ba4-aa94-4b34c5129c8a",
   "metadata": {},
   "outputs": [],
   "source": [
    "import requests\n",
    "import json\n",
    "import time\n",
    "import datetime\n",
    "import sys\n",
    "import re\n",
    "import pandas as pd\n",
    "import demjson\n",
    "from bs4 import BeautifulSoup\n",
    "from tqdm import tqdm\n",
    "import pymongo\n",
    "from threading import Thread\n",
    "import queue\n",
    "import PyPDF2\n",
    "from pyzotero import zotero"
   ]
  },
  {
   "cell_type": "code",
   "execution_count": 2,
   "id": "8a2ad2f7-5b08-4065-8aed-4ef8582d7177",
   "metadata": {},
   "outputs": [],
   "source": [
    "# 参数设置\n",
    "\n",
    "## 起始页设置\n",
    "start_page = 1\n",
    "end_page = 1\n",
    "## 本次检索主题\n",
    "theme = 'smart_retail'\n",
    "## 文件存储位置\n",
    "file_path = '/Users/januswing/Downloads/{}'.format(theme)\n",
    "## 文件类型\n",
    "file_type = 'pdf'\n",
    "## 检索词或检索式\n",
    "keyword = '智慧零售'\n",
    "## Zotero接口参数\n",
    "library_id = ''\n",
    "library_type = 'user'\n",
    "api_key = ''\n",
    "\n",
    "search_string = 'filetype:{}+{}'.format(file_type, keyword)\n",
    "pages = range(start_page - 1, end_page)\n",
    "batch_id = datetime.datetime.now().strftime(\"%Y%m%d%H%M%S\")"
   ]
  },
  {
   "cell_type": "code",
   "execution_count": 3,
   "id": "96903e3b-b987-48f8-b049-169704748ac4",
   "metadata": {},
   "outputs": [],
   "source": [
    "# 本地 MongoDB 设置\n",
    "MongoServer = 'mongodb://localhost:27017/'\n",
    "MongoDB = 'runoobdb'\n",
    "Collection = '{}_{}'.format(theme, batch_id)\n",
    "\n",
    "myclient = pymongo.MongoClient(MongoServer)\n",
    "mydb = myclient[MongoDB]\n",
    "\n",
    "mycol = mydb[Collection]"
   ]
  },
  {
   "cell_type": "code",
   "execution_count": 4,
   "id": "c8e01a80-34a0-494b-a490-04403b4b7b3d",
   "metadata": {},
   "outputs": [],
   "source": [
    "# 简易多线程并发器\n",
    "class FactorizeThread(Thread):\n",
    "    \"\"\"\n",
    "    多线程并发采集\n",
    "    \"\"\"\n",
    "    def __init__(self, param, queue):\n",
    "        super().__init__()\n",
    "        self.param = param\n",
    "        self.queue = queue\n",
    "\n",
    "    def run(self):\n",
    "        try:\n",
    "            self.res = crawler(self.param)\n",
    "        finally:\n",
    "            self.queue.get()\n",
    "            self.queue.task_done()"
   ]
  },
  {
   "cell_type": "code",
   "execution_count": 5,
   "id": "084393bc-4eee-4d63-af74-eaee36425a52",
   "metadata": {},
   "outputs": [],
   "source": [
    "# 数据采集核心函数\n",
    "def crawler(param):\n",
    "    in_first = 10 * param['page'] + 1\n",
    "    url = \"https://cn.bing.com/search?q={0}&qs=n&sp=-1&pq={0}&sc=8-17&sk=&cvid=F3FE0F2FF663402D9E91FADB93A9A4BB&first={1}&FORM=PERE\".format(search_string, in_first)\n",
    "    payload={}\n",
    "    headers = {\n",
    "      'authority': 'cn.bing.com',\n",
    "      'accept': 'text/html,application/xhtml+xml,application/xml;q=0.9,image/avif,image/webp,image/apng,*/*;q=0.8,application/signed-exchange;v=b3;q=0.9',\n",
    "      'accept-language': 'en-US,en;q=0.9,zh-CN;q=0.8,zh;q=0.7,ja-JP;q=0.6,ja;q=0.5,zh-TW;q=0.4',\n",
    "      'cookie': 'MUID=0D5070894F656FEF3F1360644E476E11; MUIDB=0D5070894F656FEF3F1360644E476E11; SRCHD=AF=NOFORM; SRCHUID=V=2&GUID=A420B1CE3A0C4BAB9B0A75C34E48D47E&dmnchg=1; MUIDV=NU=1; _FP=hta=off; _UR=QS=0&TQS=0; _clck=tx1nki|1|f1q|0; USRLOC=HS=1&DLOC=LAT=23.128081|LON=113.3345447|A=61.477|N=%e5%a4%a9%e6%b2%b3%e5%8c%ba%2c+%e5%b9%bf%e5%b7%9e%e5%b8%82|C=|S=|TS=220526093840|ETS=220526094840|; imgv=flts=20220531; _TTSS_IN=hist=WyJhZiIsInpoLUhhbnMiLCJlbiIsImF1dG8tZGV0ZWN0Il0=; _TTSS_OUT=hist=WyJhZiIsImVuIiwiemgtSGFucyJd; _tarLang=default=zh-Hans; ZHCHATSTRONGATTRACT=TRUE; SUID=M; _EDGE_S=SID=158903A432E162981EE4126033AB6373; _SS=SID=158903A432E162981EE4126033AB6373; ABDEF=V=13&ABDV=11&MRNB=1655351524960&MRB=0; SRCHUSR=DOB=20211112&T=1655358959000&TPC=1655337133000; ipv6=hit=1655362560080&t=4; _HPVN=CS=eyJQbiI6eyJDbiI6MTg3LCJTdCI6MiwiUXMiOjAsIlByb2QiOiJQIn0sIlNjIjp7IkNuIjoxODcsIlN0IjowLCJRcyI6MCwiUHJvZCI6IkgifSwiUXoiOnsiQ24iOjE4NywiU3QiOjEsIlFzIjowLCJQcm9kIjoiVCJ9LCJBcCI6dHJ1ZSwiTXV0ZSI6dHJ1ZSwiTGFkIjoiMjAyMi0wNi0xNlQwMDowMDowMFoiLCJJb3RkIjowLCJHd2IiOjAsIkRmdCI6bnVsbCwiTXZzIjowLCJGbHQiOjAsIkltcCI6MTAwN30=; ZHCHATWEAKATTRACT=TRUE; SRCHHPGUSR=SRCHLANG=en&BRW=S&BRH=T&CW=1137&CH=1014&SW=1800&SH=1169&DPR=2&UTC=480&DM=1&WTS=63790955764&HV=1655360790&BZA=0&PV=12.4.0; SNRHOP=I=&TS=; SNRHOP=I=&TS=; MUIDB=0D5070894F656FEF3F1360644E476E11',\n",
    "      'referer': '',\n",
    "      'sec-ch-ua': '\" Not A;Brand\";v=\"99\", \"Chromium\";v=\"102\", \"Google Chrome\";v=\"102\"',\n",
    "      'sec-ch-ua-arch': '\"arm\"',\n",
    "      'sec-ch-ua-bitness': '\"64\"',\n",
    "      'sec-ch-ua-full-version': '\"102.0.5005.115\"',\n",
    "      'sec-ch-ua-mobile': '?0',\n",
    "      'sec-ch-ua-model': '\"\"',\n",
    "      'sec-ch-ua-platform': '\"macOS\"',\n",
    "      'sec-ch-ua-platform-version': '\"12.4.0\"',\n",
    "      'sec-fetch-dest': 'document',\n",
    "      'sec-fetch-mode': 'navigate',\n",
    "      'sec-fetch-site': 'same-origin',\n",
    "      'sec-fetch-user': '?1',\n",
    "      'upgrade-insecure-requests': '1',\n",
    "      'user-agent': 'Mozilla/5.0 (Macintosh; Intel Mac OS X 10_15_7) AppleWebKit/537.36 (KHTML, like Gecko) Chrome/102.0.0.0 Safari/537.36'\n",
    "    }\n",
    "\n",
    "    response = requests.request(\"GET\", url, headers=headers, data=payload, timeout=60)\n",
    "    soup = BeautifulSoup(response.content.decode('utf-8'),'lxml')\n",
    "    for doc_link in soup.select('div[class=\"b_title\"]'):\n",
    "        file_url = doc_link.a['href']\n",
    "        file_title = doc_link.text.replace('[PDF]','').replace(' ','').replace('/','')\n",
    "        try:\n",
    "            myfile = requests.get(file_url, timeout=120)\n",
    "            file_saved = '{}/{}.pdf'.format(file_path, file_title)\n",
    "            open(file_saved,'wb').write(myfile.content)\n",
    "        except Exception as e:\n",
    "            print('{} get file: {}'.format(file_title, e.__str__()))\n",
    "            continue\n",
    "        finally:\n",
    "            file_data = {'file_url':file_url, 'file_title':file_title, 'file_saved':file_saved}\n",
    "            mycol.insert_one(file_data)"
   ]
  },
  {
   "cell_type": "code",
   "execution_count": 14,
   "id": "b08b17a3-e65a-4e75-bcd9-4091566a37ac",
   "metadata": {},
   "outputs": [],
   "source": [
    "# pdf解释函数\n",
    "def pdf_explain(file_data):\n",
    "    name = file_data['file_title']\n",
    "    file = file_data['file_saved']\n",
    "    pdf_meta = {}\n",
    "    pdf_meta['status']='success'\n",
    "    try:\n",
    "        pdf_file = PyPDF2.PdfFileReader(open(file, 'rb'))\n",
    "        docinfo = pdf_file.getDocumentInfo()\n",
    "    except Exception as e:\n",
    "        print('{} file explain error: {}'.format(name, e.__str__()))\n",
    "        pdf_meta = {'status':'failed', 'name':name, 'file':file}\n",
    "        return pdf_meta\n",
    "    \n",
    "    for key in docinfo:\n",
    "        key_new = key.replace('/','')\n",
    "        value_new = docinfo[key].replace('/','').replace('D:','').replace(\"+08'00'\",'')\n",
    "        pdf_meta[key_new] = value_new\n",
    "\n",
    "    words = '引言|摘要'\n",
    "    astract = ''\n",
    "    for page in pdf_file.pages:\n",
    "        word_list = words.split('|')\n",
    "        for word in word_list:\n",
    "            try:\n",
    "                pageinfo = page.extract_text()\n",
    "            except Exception as e:\n",
    "                pageinfo = ''\n",
    "                continue\n",
    "            if word in pageinfo:\n",
    "                astract = astract + page.extract_text()\n",
    "    pdf_meta['astract'] = astract\n",
    "    pdf_meta['name'] = name\n",
    "    return pdf_meta"
   ]
  },
  {
   "cell_type": "code",
   "execution_count": 7,
   "id": "8be17169-f86f-42fd-b95d-93a14ff383ac",
   "metadata": {},
   "outputs": [
    {
     "name": "stdout",
     "output_type": "stream",
     "text": [
      "連鎖零售業的行銷策略以7-11為例 get file: HTTPSConnectionPool(host='www.shs.edu.tw', port=443): Max retries exceeded with url: /works/essay/2008/10/2008103021491937.pdf (Caused by NewConnectionError('<urllib3.connection.HTTPSConnection object at 0x7fbbc8be0cd0>: Failed to establish a new connection: [Errno 60] Operation timed out'))\n"
     ]
    }
   ],
   "source": [
    "# 数据采集运行\n",
    "para = []\n",
    "threads = []\n",
    "maxThreads = 10 # 并发数\n",
    "q = queue.Queue(maxThreads)\n",
    "pages = range(start_page - 1, end_page)\n",
    "for page in pages:  # loop cityname\n",
    "    param = {'page': page}\n",
    "    q.put(param)\n",
    "    thread = FactorizeThread(param, q)\n",
    "    thread.start()\n",
    "    threads.append(thread)\n",
    "q.join()"
   ]
  },
  {
   "cell_type": "code",
   "execution_count": 15,
   "id": "75f2f0fd-475d-4301-86a0-7f735461302d",
   "metadata": {},
   "outputs": [
    {
     "name": "stdout",
     "output_type": "stream",
     "text": [
      "附件3第五届中国“互联网+”大学生创新创业大赛全国总决赛... file explain error: PDF starts with '<!DOC', but '%PDF-' expected\n",
      "附件3第五届中国“互联网+”大学生创新创业大赛全国总决赛...文件解析失败: /Users/januswing/Downloads/smart_retail/附件3第五届中国“互联网+”大学生创新创业大赛全国总决赛....pdf\n"
     ]
    }
   ],
   "source": [
    "# pdf解释运行\n",
    "for line in mycol.find():\n",
    "    pdf_meta = pdf_explain(line)\n",
    "    if pdf_meta['status'] == 'failed':\n",
    "        print('{}文件解析失败: {}'.format(pdf_meta['name'], pdf_meta['file']))\n",
    "    else:\n",
    "        zot = zotero.Zotero(library_id, library_type, api_key)\n",
    "        template = zot.item_template('webpage')\n",
    "        template['title'] = pdf_meta['name']\n",
    "        template['abstractNote'] = pdf_meta['astract']\n",
    "        res = zot.create_items([template])\n",
    "        item_id = res['successful']['0']['key']\n",
    "        attachment_path = line['file_saved']\n",
    "        zot.attachment_simple([attachment_path], item_id)"
   ]
  },
  {
   "cell_type": "code",
   "execution_count": null,
   "id": "839c5fd0-85a8-43a2-aec2-190acd5f2a1f",
   "metadata": {},
   "outputs": [],
   "source": []
  }
 ],
 "metadata": {
  "kernelspec": {
   "display_name": "py37",
   "language": "python",
   "name": "py37"
  },
  "language_info": {
   "codemirror_mode": {
    "name": "ipython",
    "version": 3
   },
   "file_extension": ".py",
   "mimetype": "text/x-python",
   "name": "python",
   "nbconvert_exporter": "python",
   "pygments_lexer": "ipython3",
   "version": "3.7.16"
  }
 },
 "nbformat": 4,
 "nbformat_minor": 5
}
