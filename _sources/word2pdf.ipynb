{
 "cells": [
  {
   "cell_type": "markdown",
   "id": "eeeb4a72-9e04-4c57-858c-0c84262d6ac0",
   "metadata": {},
   "source": [
    "# Word文档资料整理工作流\n",
    "\n",
    "因为工作中总有大量的word文档，其中又有大部分是需要阅读学习的资料，因此初步希望能够将word转成pdf，并写入到Zotero，使用在一个界面中进行学习。\n",
    "后续也更方便在Zotero中阅读，划线标记，并收集为Notes导出使用\n",
    "\n",
    "- doc转pdf放入Zotero  \n",
    "- pdf标注提取  \n",
    "- Annotation转换为note  \n",
    "- note批量整理--通过search筛选器\n",
    "\n",
    "目前效果：\n",
    "\n",
    "## 在Finder中右键选中docs文件，选择Quick Action>word2pdf，文件就会自动转为pdf并写入到Zotero\n",
    "\n",
    "## 踩坑记录\n",
    "- 打开word时总弹出授权请求，chmod无法解决，但无论授权窗口点击确认或取消都可以执行成功，怎么可以省掉这个步骤？"
   ]
  },
  {
   "cell_type": "code",
   "execution_count": null,
   "id": "ed62f4ed-dd1c-4a21-b605-e58280bb364b",
   "metadata": {},
   "outputs": [],
   "source": [
    "from docx2pdf import convert\n",
    "import os\n",
    "import re"
   ]
  },
  {
   "cell_type": "code",
   "execution_count": null,
   "id": "b21045e9-0dfa-462c-84ba-03f39075b388",
   "metadata": {},
   "outputs": [],
   "source": [
    "def add_escape(value):\n",
    "    reserved_chars = r'''?&|!{}[]()^~*:\\\\\"'+ '''\n",
    "    replace = ['\\\\' + l for l in reserved_chars]\n",
    "    trans = str.maketrans(dict(zip(reserved_chars, replace)))\n",
    "    return value.translate(trans)"
   ]
  },
  {
   "cell_type": "code",
   "execution_count": null,
   "id": "67153e16-79db-4109-bc04-a9a66d5419a9",
   "metadata": {},
   "outputs": [],
   "source": [
    "doc_file = '/Users/januswing/Nutstore Files/projects/doc_智慧港口建设指南/智慧港口-素材汇总/模板1-智能生产作业v2.0(1)-华东电子.docx'\n",
    "doc_file_cmd = add_escape(doc_file)\n",
    "pdf_temp_path = '/Users/januswing/data'\n",
    "tmp_symbol_loc = [each.start() for each in re.finditer(\"/\", doc_file)]\n",
    "pdf_temp_name = '{}{}{}'.format(pdf_temp_path, doc_file[tmp_symbol_loc[-1]:len(doc_file)-4], 'pdf')\n",
    "pdf_temp_name_cmd = add_escape(pdf_temp_name)"
   ]
  },
  {
   "cell_type": "code",
   "execution_count": null,
   "id": "2be07de8-3adc-4636-9e00-2eba9d6a81ca",
   "metadata": {},
   "outputs": [],
   "source": [
    "os.system('chmod 777 {}'.format(doc_file_cmd))\n",
    "os.system('rm -f {}'.format(pdf_temp_name_cmd))\n",
    "\n",
    "convert(doc_file, pdf_temp_name)"
   ]
  },
  {
   "cell_type": "markdown",
   "id": "0f81668f-577d-4f0c-9d07-c3a602bd8ebf",
   "metadata": {},
   "source": [
    "## 已实现的部分优化\n",
    "\n",
    "想想如果每一次你拿到一个文件，还要把文件名放到脚本里面，然后执行程序，再把生成的pdf文件丢进Zotero，整个过程仍然非常繁琐。\n",
    "于是我想到可以通过苹果的Automator调用一个shell脚本，把上面的过程一次性完成。\n",
    "过程如下：\n",
    "\n",
    "### 1. 配置Automator\n",
    "\n",
    "打开Automator，新建一个workflow，选择Quick Action，然后设置如下\n",
    "![](https://tva1.sinaimg.cn/large/e6c9d24egy1h4i2e797bsj20wp0azdgr.jpg)\n",
    "\n",
    "shell脚本示例如下（使用时记得修改为你的路径）\n",
    "\n",
    "```{shell}\n",
    "#!/bin/bash\n",
    "# set -e\n",
    "\n",
    "# 获取路径及文件名\n",
    "filename=$1\n",
    "echo \"输入文件为:\"${filename}  >> ~/data/word2pdf.log\n",
    "\n",
    "# 执行python\n",
    "/Users/januswing/opt/anaconda3/envs/py37/bin/python /Users/januswing/jupyterlab/mapCrawler/tasks/word2pdf.py ${filename}\n",
    "\n",
    "echo \"py执行成功......\" >> ~/data/word2pdf.log\n",
    "```\n",
    "\n",
    "### 2. 附上上述shell调用的py脚本，按需自行修改使用"
   ]
  },
  {
   "cell_type": "code",
   "execution_count": null,
   "id": "feab1b0d-9bcc-48ec-86dc-8a7e3410cc69",
   "metadata": {},
   "outputs": [],
   "source": [
    "from docx2pdf import convert\n",
    "from pyzotero import zotero\n",
    "import sys\n",
    "import os\n",
    "import re\n",
    "\n",
    "def add_escape(value):\n",
    "    reserved_chars = r'''?&|!{}[]()^~*:\\\\\"'+ '''\n",
    "    replace = ['\\\\' + l for l in reserved_chars]\n",
    "    trans = str.maketrans(dict(zip(reserved_chars, replace)))\n",
    "    return value.translate(trans)\n",
    "\n",
    "if __name__ == '__main__':\n",
    "    doc_file = sys.argv[1]\n",
    "    ## Zotero接口参数\n",
    "    library_id = ''\n",
    "    library_type = ''\n",
    "    api_key = ''\n",
    "\n",
    "    doc_file_cmd = add_escape(doc_file)\n",
    "    pdf_temp_path = '/Users/januswing/data/'\n",
    "    tmp_symbol_loc = [each.start() for each in re.finditer(\"/\", doc_file)]\n",
    "    file_title = doc_file[tmp_symbol_loc[-1]+1:len(doc_file)-4]\n",
    "    pdf_temp_name = '{}{}{}'.format(pdf_temp_path, file_title, 'pdf')\n",
    "    pdf_temp_name_cmd = add_escape(pdf_temp_name)\n",
    "\n",
    "    os.system('chmod 777 {}'.format(doc_file_cmd))\n",
    "    os.system('rm -f {}'.format(pdf_temp_name_cmd))\n",
    "\n",
    "    convert(doc_file, pdf_temp_name)\n",
    "    # 连接 Zotero\n",
    "    zot = zotero.Zotero(library_id, library_type, api_key)\n",
    "    # 保存Zotero条目\n",
    "    ## 请保证云存储空间充足\n",
    "    template = zot.item_template('document')\n",
    "    template['title'] = file_title\n",
    "    res = zot.create_items([template])\n",
    "    item_id = res['successful']['0']['key']\n",
    "    attachment_path = pdf_temp_name\n",
    "    zot.attachment_simple([attachment_path], item_id)"
   ]
  },
  {
   "cell_type": "code",
   "execution_count": null,
   "id": "0c414088-0e08-46c9-bca3-90c43e52f6a7",
   "metadata": {},
   "outputs": [],
   "source": []
  }
 ],
 "metadata": {
  "kernelspec": {
   "display_name": "py37",
   "language": "python",
   "name": "py37"
  },
  "language_info": {
   "codemirror_mode": {
    "name": "ipython",
    "version": 3
   },
   "file_extension": ".py",
   "mimetype": "text/x-python",
   "name": "python",
   "nbconvert_exporter": "python",
   "pygments_lexer": "ipython3",
   "version": "3.7.11"
  }
 },
 "nbformat": 4,
 "nbformat_minor": 5
}
