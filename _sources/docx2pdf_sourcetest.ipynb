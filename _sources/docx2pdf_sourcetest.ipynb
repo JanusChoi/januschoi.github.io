{
 "cells": [
  {
   "cell_type": "code",
   "execution_count": 1,
   "id": "9cc67092-9fa3-4de8-bdf5-df7093410ad6",
   "metadata": {},
   "outputs": [],
   "source": [
    "import sys\n",
    "import json\n",
    "import subprocess\n",
    "from pathlib import Path\n",
    "from tqdm.auto import tqdm\n",
    "\n",
    "try:\n",
    "    # 3.8+\n",
    "    from importlib.metadata import version\n",
    "except ImportError:\n",
    "    from importlib_metadata import version\n",
    "\n",
    "__version__ = version(__package__)\n",
    "\n",
    "\n",
    "def windows(paths, keep_active):\n",
    "    import win32com.client\n",
    "\n",
    "    word = win32com.client.Dispatch(\"Word.Application\")\n",
    "    wdFormatPDF = 17\n",
    "\n",
    "    if paths[\"batch\"]:\n",
    "        for docx_filepath in tqdm(sorted(Path(paths[\"input\"]).glob(\"[!~]*.doc*\"))):\n",
    "            pdf_filepath = Path(paths[\"output\"]) / (str(docx_filepath.stem) + \".pdf\")\n",
    "            doc = word.Documents.Open(str(docx_filepath))\n",
    "            doc.SaveAs(str(pdf_filepath), FileFormat=wdFormatPDF)\n",
    "            doc.Close(0)\n",
    "    else:\n",
    "        pbar = tqdm(total=1)\n",
    "        docx_filepath = Path(paths[\"input\"]).resolve()\n",
    "        pdf_filepath = Path(paths[\"output\"]).resolve()\n",
    "        doc = word.Documents.Open(str(docx_filepath))\n",
    "        doc.SaveAs(str(pdf_filepath), FileFormat=wdFormatPDF)\n",
    "        doc.Close(0)\n",
    "        pbar.update(1)\n",
    "\n",
    "    if not keep_active:\n",
    "        word.Quit()\n",
    "\n",
    "\n",
    "def macos(paths, keep_active):\n",
    "    script = \"/Users/januswing/jupyterlab/docx2pdf/docx2pdf/convert.jxa\"\n",
    "    cmd = [\n",
    "        \"/usr/bin/osascript\",\n",
    "        \"-l\",\n",
    "        \"JavaScript\",\n",
    "        str(script),\n",
    "        str(paths[\"input\"]),\n",
    "        str(paths[\"output\"]),\n",
    "        str(keep_active).lower(),\n",
    "    ]\n",
    "\n",
    "    def run(cmd):\n",
    "        process = subprocess.Popen(cmd, stderr=subprocess.PIPE)\n",
    "        while True:\n",
    "            line = process.stderr.readline().rstrip()\n",
    "            if not line:\n",
    "                break\n",
    "            yield line.decode(\"utf-8\")\n",
    "\n",
    "    total = len(list(Path(paths[\"input\"]).glob(\"*.doc*\"))) if paths[\"batch\"] else 1\n",
    "    pbar = tqdm(total=total)\n",
    "    for line in run(cmd):\n",
    "        print('line:', line)\n",
    "        try:\n",
    "            msg = json.loads(line)\n",
    "        except ValueError as e:\n",
    "            print('error:',e)\n",
    "            continue\n",
    "        if msg[\"result\"] == \"success\":\n",
    "            pbar.update(1)\n",
    "        elif msg[\"result\"] == \"error\":\n",
    "            print(msg)\n",
    "            sys.exit(1)\n",
    "\n",
    "\n",
    "def resolve_paths(input_path, output_path):\n",
    "    input_path = Path(input_path).resolve()\n",
    "    output_path = Path(output_path).resolve() if output_path else None\n",
    "    output = {}\n",
    "    if input_path.is_dir():\n",
    "        output[\"batch\"] = True\n",
    "        output[\"input\"] = str(input_path)\n",
    "        if output_path:\n",
    "            assert output_path.is_dir()\n",
    "        else:\n",
    "            output_path = str(input_path)\n",
    "        output[\"output\"] = output_path\n",
    "    else:\n",
    "        output[\"batch\"] = False\n",
    "        assert str(input_path).endswith((\".docx\", \".DOCX\", \".doc\", \".DOC\"))\n",
    "        output[\"input\"] = str(input_path)\n",
    "        if output_path and output_path.is_dir():\n",
    "            output_path = str(output_path / (str(input_path.stem) + \".pdf\"))\n",
    "        elif output_path:\n",
    "            assert str(output_path).endswith(\".pdf\")\n",
    "        else:\n",
    "            output_path = str(input_path.parent / (str(input_path.stem) + \".pdf\"))\n",
    "        output[\"output\"] = output_path\n",
    "    return output\n",
    "\n",
    "\n",
    "def convert(input_path, output_path=None, keep_active=False):\n",
    "    paths = resolve_paths(input_path, output_path)\n",
    "    if sys.platform == \"darwin\":\n",
    "        return macos(paths, keep_active)\n",
    "    elif sys.platform == \"win32\":\n",
    "        return windows(paths, keep_active)\n",
    "    else:\n",
    "        raise NotImplementedError(\n",
    "            \"docx2pdf is not implemented for linux as it requires Microsoft Word to be installed\"\n",
    "        )\n",
    "\n",
    "\n",
    "def cli():\n",
    "\n",
    "    import textwrap\n",
    "    import argparse\n",
    "\n",
    "    if \"--version\" in sys.argv:\n",
    "        print(__version__)\n",
    "        sys.exit(0)\n",
    "\n",
    "    description = textwrap.dedent(\n",
    "        \"\"\"\n",
    "    Example Usage:\n",
    "\n",
    "    Convert single docx file in-place from myfile.docx to myfile.pdf:\n",
    "        docx2pdf myfile.docx\n",
    "\n",
    "    Batch convert docx folder in-place. Output PDFs will go in the same folder:\n",
    "        docx2pdf myfolder/\n",
    "\n",
    "    Convert single docx file with explicit output filepath:\n",
    "        docx2pdf input.docx output.docx\n",
    "\n",
    "    Convert single docx file and output to a different explicit folder:\n",
    "        docx2pdf input.docx output_dir/\n",
    "\n",
    "    Batch convert docx folder. Output PDFs will go to a different explicit folder:\n",
    "        docx2pdf input_dir/ output_dir/\n",
    "    \"\"\"\n",
    "    )\n",
    "\n",
    "    formatter_class = lambda prog: argparse.RawDescriptionHelpFormatter(\n",
    "        prog, max_help_position=32\n",
    "    )\n",
    "    parser = argparse.ArgumentParser(\n",
    "        description=description, formatter_class=formatter_class\n",
    "    )\n",
    "    parser.add_argument(\n",
    "        \"input\",\n",
    "        help=\"input file or folder. batch converts entire folder or convert single file\",\n",
    "    )\n",
    "    parser.add_argument(\"output\", nargs=\"?\", help=\"output file or folder\")\n",
    "    parser.add_argument(\n",
    "        \"--keep-active\",\n",
    "        action=\"store_true\",\n",
    "        default=False,\n",
    "        help=\"prevent closing word after conversion\",\n",
    "    )\n",
    "    parser.add_argument(\n",
    "        \"--version\", action=\"store_true\", default=False, help=\"display version and exit\"\n",
    "    )\n",
    "\n",
    "    if len(sys.argv) == 1:\n",
    "        parser.print_help()\n",
    "        sys.exit(0)\n",
    "    else:\n",
    "        args = parser.parse_args()\n",
    "\n",
    "    convert(args.input, args.output, args.keep_active)\n"
   ]
  },
  {
   "cell_type": "code",
   "execution_count": 24,
   "id": "183cec54-365d-439d-b48c-2d58247aee9e",
   "metadata": {},
   "outputs": [
    {
     "data": {
      "application/vnd.jupyter.widget-view+json": {
       "model_id": "3d2f21c0c3b340dfac614296e45dafa0",
       "version_major": 2,
       "version_minor": 0
      },
      "text/plain": [
       "  0%|          | 0/1 [00:00<?, ?it/s]"
      ]
     },
     "metadata": {},
     "output_type": "display_data"
    }
   ],
   "source": [
    "doc_file = '/Users/januswing/Nutstore Files/projects/doc_智慧港口建设指南/智慧港口-素材汇总/04-港口数字基础-基础支撑平台/数字孪生港口(散货)建设工程-20220701.docx'\n",
    "pdf_temp_name = '/Users/januswing/data/04-港口数字基础-基础支撑平台/数字孪生港口(散货)建设工程-20220701.pdf'\n",
    "convert(doc_file, pdf_temp_name)"
   ]
  },
  {
   "cell_type": "code",
   "execution_count": 4,
   "id": "e067a1ab-ea6d-477e-b81e-2eaf2b2a9f82",
   "metadata": {},
   "outputs": [],
   "source": [
    "from docx2pdf import convert\n",
    "from pyzotero import zotero\n",
    "import sys\n",
    "import os\n",
    "import re\n",
    "\n",
    "## Zotero接口参数\n",
    "library_id = '5012819'\n",
    "library_type = 'user'\n",
    "api_key = 'FkXpNmTlLwqDnhKxS2n2zgoj'\n",
    "# 连接 Zotero\n",
    "zot = zotero.Zotero(library_id, library_type, api_key)\n",
    "# 保存Zotero条目\n",
    "## 请保证云存储空间充足\n",
    "template = zot.item_template('document')\n",
    "template['title'] = 'test_ntimes'\n",
    "res = zot.create_items([template])\n",
    "item_id = res['successful']['0']['key']\n",
    "attachment_path = '/Users/januswing/data/doctest.pdf'\n",
    "res = zot.attachment_simple([attachment_path], item_id)"
   ]
  },
  {
   "cell_type": "code",
   "execution_count": 10,
   "id": "bd3b6cff-65f3-401a-a54d-ff967d639d07",
   "metadata": {},
   "outputs": [],
   "source": [
    "attachment_key = res['success'][0]['key']"
   ]
  },
  {
   "cell_type": "code",
   "execution_count": 20,
   "id": "b349ffe3-aa5e-4b2b-b888-99bbf2080308",
   "metadata": {},
   "outputs": [
    {
     "data": {
      "text/plain": [
       "0"
      ]
     },
     "execution_count": 20,
     "metadata": {},
     "output_type": "execute_result"
    }
   ],
   "source": [
    "sync_path = '/Users/januswing/Zotero/storage/{}'.format(attachment_key)\n",
    "os.system('mkdir {}'.format(sync_path))\n",
    "os.system('cp {} {}/'.format(attachment_path,sync_path))"
   ]
  },
  {
   "cell_type": "code",
   "execution_count": 12,
   "id": "f7acce54-04bf-4171-a174-5afdbfc10023",
   "metadata": {},
   "outputs": [
    {
     "data": {
      "text/plain": [
       "'/Users/januswing/data/doctest.pdf'"
      ]
     },
     "execution_count": 12,
     "metadata": {},
     "output_type": "execute_result"
    }
   ],
   "source": [
    "attachment_path"
   ]
  },
  {
   "cell_type": "code",
   "execution_count": 14,
   "id": "0dea7aed-6fb7-4f82-94f2-20e184fe96fc",
   "metadata": {},
   "outputs": [
    {
     "data": {
      "text/plain": [
       "'DT7U8I9N'"
      ]
     },
     "execution_count": 14,
     "metadata": {},
     "output_type": "execute_result"
    }
   ],
   "source": [
    "attachment_key"
   ]
  },
  {
   "cell_type": "code",
   "execution_count": 15,
   "id": "905b036d-5479-492a-816f-adeeb29690b7",
   "metadata": {},
   "outputs": [
    {
     "data": {
      "text/plain": [
       "'/Users/januswing/Zotero/storage/DT7U8I9N'"
      ]
     },
     "execution_count": 15,
     "metadata": {},
     "output_type": "execute_result"
    }
   ],
   "source": [
    "sync_path"
   ]
  },
  {
   "cell_type": "code",
   "execution_count": 18,
   "id": "f8ba5d70-52bc-4299-81d1-049d0230da9c",
   "metadata": {},
   "outputs": [
    {
     "name": "stdout",
     "output_type": "stream",
     "text": [
      "cp /Users/januswing/data/doctest.pdf /Users/januswing/Zotero/storage/DT7U8I9N/\n"
     ]
    }
   ],
   "source": [
    "print('cp {} {}/'.format(attachment_path,sync_path))"
   ]
  },
  {
   "cell_type": "code",
   "execution_count": null,
   "id": "459089b0-09c7-445a-8da1-90d117ed1473",
   "metadata": {},
   "outputs": [],
   "source": [
    "zot.upload_attachments(['doctest.pdf'],item_id,'/Users/januswing/data')"
   ]
  },
  {
   "cell_type": "code",
   "execution_count": null,
   "id": "4e0ceb02-f7bd-4aa1-ab4a-3415d132c103",
   "metadata": {},
   "outputs": [],
   "source": [
    "zot.upload_attachments(attachment_path, [item_id])"
   ]
  },
  {
   "cell_type": "code",
   "execution_count": null,
   "id": "d47dc413-0e2e-4160-b005-ddeaf7de485b",
   "metadata": {},
   "outputs": [],
   "source": []
  }
 ],
 "metadata": {
  "kernelspec": {
   "display_name": "py37",
   "language": "python",
   "name": "py37"
  },
  "language_info": {
   "codemirror_mode": {
    "name": "ipython",
    "version": 3
   },
   "file_extension": ".py",
   "mimetype": "text/x-python",
   "name": "python",
   "nbconvert_exporter": "python",
   "pygments_lexer": "ipython3",
   "version": "3.7.11"
  }
 },
 "nbformat": 4,
 "nbformat_minor": 5
}
