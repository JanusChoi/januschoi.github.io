{
 "cells": [
  {
   "cell_type": "markdown",
   "id": "9b0301ec-c05c-4b5f-bebe-9917606df007",
   "metadata": {},
   "source": [
    "# 万方下载论文重命名\n",
    "\n",
    "万方直接下载的论文原文pdf文件名会变成一串编码，目测可解码，迅速批量操作如下"
   ]
  },
  {
   "cell_type": "code",
   "execution_count": null,
   "id": "8feb447c-fc4d-4a88-a700-0ff661b21644",
   "metadata": {},
   "outputs": [],
   "source": [
    "import os\n",
    "import urllib\n",
    "\n",
    "filepath=\"/Users/januswing/Downloads\" # 存放pdf的路径\n",
    "all_files = os.listdir(filepath)\n",
    "for file in all_files:\n",
    "    if '%' in file and file[-3:] == 'pdf': # 这里条件是文件名中包含 % 且后缀为pdf，可根据需要修改\n",
    "        filename = file[:-4]\n",
    "        filename = urllib.parse.unquote(filename)\n",
    "        filename = filename.replace('/','') # 有些文件名包含 / 会导致报错，因此需要替换掉\n",
    "        os.rename('{}/{}'.format(filepath, file), '{}/{}.pdf'.format(filepath,filename)) # 修改为解码后文件名即可"
   ]
  }
 ],
 "metadata": {
  "kernelspec": {
   "display_name": "py37",
   "language": "python",
   "name": "py37"
  },
  "language_info": {
   "codemirror_mode": {
    "name": "ipython",
    "version": 3
   },
   "file_extension": ".py",
   "mimetype": "text/x-python",
   "name": "python",
   "nbconvert_exporter": "python",
   "pygments_lexer": "ipython3",
   "version": "3.7.11"
  }
 },
 "nbformat": 4,
 "nbformat_minor": 5
}
